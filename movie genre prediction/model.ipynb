{
 "cells": [
  {
   "cell_type": "code",
   "execution_count": 1,
   "metadata": {},
   "outputs": [],
   "source": [
    "import pandas as pd\n",
    "import numpy as np\n",
    "from matplotlib import pyplot as plt\n",
    "import seaborn as sns\n"
   ]
  },
  {
   "cell_type": "code",
   "execution_count": 2,
   "metadata": {},
   "outputs": [
    {
     "name": "stdout",
     "output_type": "stream",
     "text": [
      "Data successfully written to train_data.csv\n"
     ]
    }
   ],
   "source": [
    "import csv\n",
    "input_file_path = 'train_data.txt'\n",
    "output_csv_path = 'train_data.csv'\n",
    "with open(input_file_path, 'r') as file:\n",
    "    lines = file.readlines()\n",
    "data = [line.strip().split() for line in lines]\n",
    "with open(output_csv_path, 'w', newline='') as csvfile:\n",
    "    csv_writer = csv.writer(csvfile)\n",
    "    \n",
    "    csv_writer.writerows(data)\n",
    "print(f'Data successfully written to {output_csv_path}')\n"
   ]
  },
  {
   "cell_type": "code",
   "execution_count": 3,
   "metadata": {},
   "outputs": [
    {
     "name": "stdout",
     "output_type": "stream",
     "text": [
      "Data successfully written to test_data.csv\n"
     ]
    }
   ],
   "source": [
    "input_file_path = 'test_data.txt'\n",
    "output_csv_path = 'test_data.csv'\n",
    "with open(input_file_path, 'r') as file:\n",
    "    lines = file.readlines()\n",
    "data = [line.strip().split() for line in lines]\n",
    "with open(output_csv_path, 'w', newline='') as csvfile:\n",
    "    csv_writer = csv.writer(csvfile)\n",
    "    \n",
    "    csv_writer.writerows(data)\n",
    "print(f'Data successfully written to {output_csv_path}')\n"
   ]
  },
  {
   "cell_type": "code",
   "execution_count": 4,
   "metadata": {},
   "outputs": [
    {
     "name": "stdout",
     "output_type": "stream",
     "text": [
      "Data successfully written to test_data_solution.csv\n"
     ]
    }
   ],
   "source": [
    "input_file_path = 'test_data_solution.txt'\n",
    "output_csv_path = 'test_data_solution.csv'\n",
    "with open(input_file_path, 'r') as file:\n",
    "    lines = file.readlines()\n",
    "data = [line.strip().split() for line in lines]\n",
    "with open(output_csv_path, 'w', newline='') as csvfile:\n",
    "    csv_writer = csv.writer(csvfile)\n",
    "    \n",
    "    csv_writer.writerows(data)\n",
    "print(f'Data successfully written to {output_csv_path}')\n"
   ]
  },
  {
   "cell_type": "code",
   "execution_count": 5,
   "metadata": {},
   "outputs": [
    {
     "data": {
      "text/html": [
       "<div>\n",
       "<style scoped>\n",
       "    .dataframe tbody tr th:only-of-type {\n",
       "        vertical-align: middle;\n",
       "    }\n",
       "\n",
       "    .dataframe tbody tr th {\n",
       "        vertical-align: top;\n",
       "    }\n",
       "\n",
       "    .dataframe thead th {\n",
       "        text-align: right;\n",
       "    }\n",
       "</style>\n",
       "<table border=\"1\" class=\"dataframe\">\n",
       "  <thead>\n",
       "    <tr style=\"text-align: right;\">\n",
       "      <th></th>\n",
       "      <th>Title</th>\n",
       "      <th>Genre</th>\n",
       "      <th>Description</th>\n",
       "    </tr>\n",
       "  </thead>\n",
       "  <tbody>\n",
       "    <tr>\n",
       "      <th>1</th>\n",
       "      <td>Oscar,et,la,dame,rose,(2009)</td>\n",
       "      <td>drama</td>\n",
       "      <td>Listening,in,to,a,conversation,between,his,doc...</td>\n",
       "    </tr>\n",
       "    <tr>\n",
       "      <th>2</th>\n",
       "      <td>Cupid,(1997)</td>\n",
       "      <td>thriller</td>\n",
       "      <td>A,brother,and,sister,with,a,past,incestuous,re...</td>\n",
       "    </tr>\n",
       "    <tr>\n",
       "      <th>3</th>\n",
       "      <td>\"Young,\",Wild,and,Wonderful,(1980)</td>\n",
       "      <td>adult</td>\n",
       "      <td>As,the,bus,empties,the,students,for,their,fiel...</td>\n",
       "    </tr>\n",
       "    <tr>\n",
       "      <th>4</th>\n",
       "      <td>The,Secret,Sin,(1915)</td>\n",
       "      <td>drama</td>\n",
       "      <td>To,help,their,unemployed,father,make,ends,\"mee...</td>\n",
       "    </tr>\n",
       "    <tr>\n",
       "      <th>5</th>\n",
       "      <td>The,Unrecovered,(2007)</td>\n",
       "      <td>drama</td>\n",
       "      <td>The,film's,title,refers,not,only,to,the,un-rec...</td>\n",
       "    </tr>\n",
       "  </tbody>\n",
       "</table>\n",
       "</div>"
      ],
      "text/plain": [
       "                                Title     Genre  \\\n",
       "1        Oscar,et,la,dame,rose,(2009)     drama   \n",
       "2                        Cupid,(1997)  thriller   \n",
       "3  \"Young,\",Wild,and,Wonderful,(1980)     adult   \n",
       "4               The,Secret,Sin,(1915)     drama   \n",
       "5              The,Unrecovered,(2007)     drama   \n",
       "\n",
       "                                         Description  \n",
       "1  Listening,in,to,a,conversation,between,his,doc...  \n",
       "2  A,brother,and,sister,with,a,past,incestuous,re...  \n",
       "3  As,the,bus,empties,the,students,for,their,fiel...  \n",
       "4  To,help,their,unemployed,father,make,ends,\"mee...  \n",
       "5  The,film's,title,refers,not,only,to,the,un-rec...  "
      ]
     },
     "execution_count": 5,
     "metadata": {},
     "output_type": "execute_result"
    }
   ],
   "source": [
    "train=pd.read_csv(\"train_data.csv\", sep=',:::,',names=['Title','Genre','Description'],engine='python')\n",
    "train.head()"
   ]
  },
  {
   "cell_type": "code",
   "execution_count": 6,
   "metadata": {},
   "outputs": [
    {
     "data": {
      "text/html": [
       "<div>\n",
       "<style scoped>\n",
       "    .dataframe tbody tr th:only-of-type {\n",
       "        vertical-align: middle;\n",
       "    }\n",
       "\n",
       "    .dataframe tbody tr th {\n",
       "        vertical-align: top;\n",
       "    }\n",
       "\n",
       "    .dataframe thead th {\n",
       "        text-align: right;\n",
       "    }\n",
       "</style>\n",
       "<table border=\"1\" class=\"dataframe\">\n",
       "  <thead>\n",
       "    <tr style=\"text-align: right;\">\n",
       "      <th></th>\n",
       "      <th>Actual_Genre</th>\n",
       "    </tr>\n",
       "  </thead>\n",
       "  <tbody>\n",
       "    <tr>\n",
       "      <th>1</th>\n",
       "      <td>thriller</td>\n",
       "    </tr>\n",
       "    <tr>\n",
       "      <th>2</th>\n",
       "      <td>comedy</td>\n",
       "    </tr>\n",
       "    <tr>\n",
       "      <th>3</th>\n",
       "      <td>documentary</td>\n",
       "    </tr>\n",
       "    <tr>\n",
       "      <th>4</th>\n",
       "      <td>drama</td>\n",
       "    </tr>\n",
       "    <tr>\n",
       "      <th>5</th>\n",
       "      <td>drama</td>\n",
       "    </tr>\n",
       "  </tbody>\n",
       "</table>\n",
       "</div>"
      ],
      "text/plain": [
       "  Actual_Genre\n",
       "1     thriller\n",
       "2       comedy\n",
       "3  documentary\n",
       "4        drama\n",
       "5        drama"
      ]
     },
     "execution_count": 6,
     "metadata": {},
     "output_type": "execute_result"
    }
   ],
   "source": [
    "test=pd.read_csv(\"test_data.csv\", sep=',:::,',names=['Title','Genre','Description'],engine='python')\n",
    "test.head()\n",
    "\n",
    "test_solution=pd.read_csv(\"test_data_solution.csv\", sep=',:::,',names=['Title','Actual_Genre','Description'],engine='python')\n",
    "test_solution.drop(test_solution.columns[[0,2]],axis=1,inplace=True)\n",
    "\n",
    "test_solution.head()"
   ]
  },
  {
   "cell_type": "code",
   "execution_count": 24,
   "metadata": {},
   "outputs": [
    {
     "data": {
      "text/plain": [
       "Genre\n",
       "drama          13613\n",
       "documentary    13096\n",
       "comedy          7447\n",
       "short           5073\n",
       "horror          2204\n",
       "thriller        1591\n",
       "action          1315\n",
       "western         1032\n",
       "reality-tv       884\n",
       "family           784\n",
       "adventure        775\n",
       "music            731\n",
       "romance          672\n",
       "sci-fi           647\n",
       "adult            590\n",
       "crime            505\n",
       "animation        498\n",
       "sport            432\n",
       "talk-show        391\n",
       "fantasy          323\n",
       "mystery          319\n",
       "musical          277\n",
       "biography        265\n",
       "history          243\n",
       "game-show        194\n",
       "news             181\n",
       "war              132\n",
       "Name: count, dtype: int64"
      ]
     },
     "execution_count": 24,
     "metadata": {},
     "output_type": "execute_result"
    }
   ],
   "source": [
    "train.Genre.value_counts()"
   ]
  },
  {
   "cell_type": "code",
   "execution_count": 7,
   "metadata": {},
   "outputs": [
    {
     "data": {
      "text/plain": [
       "Text(0, 0.5, 'Genres')"
      ]
     },
     "execution_count": 7,
     "metadata": {},
     "output_type": "execute_result"
    },
    {
     "data": {
      "image/png": "[encoded data removed]",
      "text/plain": [
       "<Figure size 700x700 with 1 Axes>"
      ]
     },
     "metadata": {},
     "output_type": "display_data"
    }
   ],
   "source": [
    "plt.figure(figsize=(7, 7))\n",
    "sns.countplot(data=train, y='Genre',hue='Genre', order=train['Genre'].value_counts().index, palette='RdBu',legend=False)\n",
    "plt.xlabel('Count', fontsize=14, fontweight='normal')\n",
    "plt.ylabel('Genres', fontsize=14, fontweight='normal')"
   ]
  },
  {
   "cell_type": "code",
   "execution_count": 8,
   "metadata": {},
   "outputs": [
    {
     "name": "stdout",
     "output_type": "stream",
     "text": [
      "Title          0\n",
      "Genre          0\n",
      "Description    0\n",
      "dtype: int64 \n",
      "\n"
     ]
    },
    {
     "data": {
      "text/plain": [
       "(None,\n",
       " Title          0\n",
       " Genre          0\n",
       " Description    0\n",
       " dtype: int64)"
      ]
     },
     "execution_count": 8,
     "metadata": {},
     "output_type": "execute_result"
    }
   ],
   "source": [
    "print(train.isnull().sum(),'\\n'),test.isnull().sum()"
   ]
  },
  {
   "cell_type": "code",
   "execution_count": 9,
   "metadata": {},
   "outputs": [
    {
     "name": "stdout",
     "output_type": "stream",
     "text": [
      "<class 'pandas.core.frame.DataFrame'>\n",
      "Index: 54214 entries, 1 to 54214\n",
      "Data columns (total 3 columns):\n",
      " #   Column       Non-Null Count  Dtype \n",
      "---  ------       --------------  ----- \n",
      " 0   Title        54214 non-null  object\n",
      " 1   Genre        54214 non-null  object\n",
      " 2   Description  54214 non-null  object\n",
      "dtypes: object(3)\n",
      "memory usage: 1.7+ MB\n",
      "None \n",
      "\n",
      "<class 'pandas.core.frame.DataFrame'>\n",
      "RangeIndex: 54200 entries, 0 to 54199\n",
      "Data columns (total 3 columns):\n",
      " #   Column       Non-Null Count  Dtype \n",
      "---  ------       --------------  ----- \n",
      " 0   Title        54200 non-null  int64 \n",
      " 1   Genre        54200 non-null  object\n",
      " 2   Description  54200 non-null  object\n",
      "dtypes: int64(1), object(2)\n",
      "memory usage: 1.2+ MB\n"
     ]
    },
    {
     "data": {
      "text/plain": [
       "(None, None)"
      ]
     },
     "execution_count": 9,
     "metadata": {},
     "output_type": "execute_result"
    }
   ],
   "source": [
    "print(train.info(), '\\n',), test.info()"
   ]
  },
  {
   "cell_type": "code",
   "execution_count": 49,
   "metadata": {},
   "outputs": [
    {
     "data": {
      "text/plain": [
       "((54214, 3), (54200, 3))"
      ]
     },
     "execution_count": 49,
     "metadata": {},
     "output_type": "execute_result"
    }
   ],
   "source": [
    "train.shape, test.shape"
   ]
  },
  {
   "cell_type": "code",
   "execution_count": 50,
   "metadata": {},
   "outputs": [
    {
     "data": {
      "text/plain": [
       "((54214, 3), (54200, 3))"
      ]
     },
     "execution_count": 50,
     "metadata": {},
     "output_type": "execute_result"
    }
   ],
   "source": [
    "train=train.drop_duplicates()\n",
    "test=test.drop_duplicates()\n",
    "\n",
    "train.shape, test.shape"
   ]
  },
  {
   "cell_type": "code",
   "execution_count": 12,
   "metadata": {},
   "outputs": [
    {
     "name": "stderr",
     "output_type": "stream",
     "text": [
      "[nltk_data] Downloading package stopwords to\n",
      "[nltk_data]     C:\\Users\\palla\\AppData\\Roaming\\nltk_data...\n",
      "[nltk_data]   Package stopwords is already up-to-date!\n",
      "[nltk_data] Downloading package punkt to\n",
      "[nltk_data]     C:\\Users\\palla\\AppData\\Roaming\\nltk_data...\n",
      "[nltk_data]   Unzipping tokenizers\\punkt.zip.\n",
      "[nltk_data] Downloading package wordnet to\n",
      "[nltk_data]     C:\\Users\\palla\\AppData\\Roaming\\nltk_data...\n",
      "[nltk_data] Downloading package averaged_perceptron_tagger to\n",
      "[nltk_data]     C:\\Users\\palla\\AppData\\Roaming\\nltk_data...\n",
      "[nltk_data]   Unzipping taggers\\averaged_perceptron_tagger.zip.\n",
      "[nltk_data] Downloading package maxent_ne_chunker to\n",
      "[nltk_data]     C:\\Users\\palla\\AppData\\Roaming\\nltk_data...\n",
      "[nltk_data]   Unzipping chunkers\\maxent_ne_chunker.zip.\n",
      "[nltk_data] Downloading package words to\n",
      "[nltk_data]     C:\\Users\\palla\\AppData\\Roaming\\nltk_data...\n",
      "[nltk_data]   Unzipping corpora\\words.zip.\n"
     ]
    }
   ],
   "source": [
    "import re\n",
    "import nltk\n",
    "import string\n",
    "nltk.download('stopwords')\n",
    "      \n",
    "nltk.download('punkt')           # Tokenizer models\n",
    "nltk.download('wordnet')         # WordNet lexicon\n",
    "nltk.download('averaged_perceptron_tagger')  # Part-of-speech tagger\n",
    "nltk.download('maxent_ne_chunker')  # Named entity chunker\n",
    "nltk.download('words')\n",
    "stemmer = nltk.stem.LancasterStemmer()\n",
    "stop_words = set(nltk.corpus.stopwords.words('english'))\n",
    "def clean_text(text):\n",
    "    text = text.lower()  \n",
    "    text = re.sub(r'@\\S+', '', text)  \n",
    "    text = re.sub(r'http\\S+', '', text)  \n",
    "    text = re.sub(r'pic.\\S+', '', text)\n",
    "    text = re.sub(r\"[^a-zA-Z+']\", ' ', text)  \n",
    "    text = re.sub(r'\\s+[a-zA-Z]\\s+', ' ', text + ' ')  \n",
    "    text = \"\".join([i for i in text if i not in string.punctuation])\n",
    "    words = nltk.word_tokenize(text)\n",
    "    stopwords = nltk.corpus.stopwords.words('english') \n",
    "    text = \" \".join([i for i in words if i not in stopwords and len(i) > 2])\n",
    "    text = re.sub(\"\\s[\\s]+\", \" \", text).strip() \n",
    "    return text\n",
    "train['Text_cleaning'] = train['Description'].apply(clean_text)\n",
    "test['Text_cleaning'] = test['Description'].apply(clean_text)"
   ]
  },
  {
   "cell_type": "code",
   "execution_count": 14,
   "metadata": {},
   "outputs": [],
   "source": [
    "from sklearn.feature_extraction.text import TfidfVectorizer\n",
    "tfidf_vectorizer = TfidfVectorizer()\n",
    "\n",
    "\n",
    "X_train = tfidf_vectorizer.fit_transform(train['Text_cleaning'])\n",
    "\n",
    "\n",
    "X_test = tfidf_vectorizer.transform(test['Text_cleaning'])"
   ]
  },
  {
   "cell_type": "code",
   "execution_count": 15,
   "metadata": {},
   "outputs": [],
   "source": [
    "from sklearn.model_selection import train_test_split\n",
    "X = X_train\n",
    "y = train['Genre']\n",
    "X_train, X_val, y_train, y_val = train_test_split(X, y, test_size=0.2, random_state=42)"
   ]
  },
  {
   "cell_type": "markdown",
   "metadata": {},
   "source": [
    "Model Training"
   ]
  },
  {
   "cell_type": "code",
   "execution_count": 18,
   "metadata": {},
   "outputs": [
    {
     "name": "stdout",
     "output_type": "stream",
     "text": [
      "Validation Accuracy: 0.44286636539703034\n",
      "              precision    recall  f1-score   support\n",
      "\n",
      "      action       0.00      0.00      0.00       263\n",
      "       adult       0.00      0.00      0.00       112\n",
      "   adventure       0.00      0.00      0.00       139\n",
      "   animation       0.00      0.00      0.00       104\n",
      "   biography       0.00      0.00      0.00        61\n",
      "      comedy       0.60      0.04      0.07      1443\n",
      "       crime       0.00      0.00      0.00       107\n",
      " documentary       0.53      0.89      0.67      2659\n",
      "       drama       0.38      0.88      0.53      2697\n",
      "      family       0.00      0.00      0.00       150\n",
      "     fantasy       0.00      0.00      0.00        74\n",
      "   game-show       0.00      0.00      0.00        40\n",
      "     history       0.00      0.00      0.00        45\n",
      "      horror       0.00      0.00      0.00       431\n",
      "       music       0.00      0.00      0.00       144\n",
      "     musical       0.00      0.00      0.00        50\n",
      "     mystery       0.00      0.00      0.00        56\n",
      "        news       0.00      0.00      0.00        34\n",
      "  reality-tv       0.00      0.00      0.00       192\n",
      "     romance       0.00      0.00      0.00       151\n",
      "      sci-fi       0.00      0.00      0.00       143\n",
      "       short       1.00      0.00      0.00      1045\n",
      "       sport       0.00      0.00      0.00        93\n",
      "   talk-show       0.00      0.00      0.00        81\n",
      "    thriller       0.00      0.00      0.00       309\n",
      "         war       0.00      0.00      0.00        20\n",
      "     western       0.00      0.00      0.00       200\n",
      "\n",
      "    accuracy                           0.44     10843\n",
      "   macro avg       0.09      0.07      0.05     10843\n",
      "weighted avg       0.40      0.44      0.30     10843\n",
      "\n"
     ]
    },
    {
     "name": "stderr",
     "output_type": "stream",
     "text": [
      "c:\\Users\\palla\\anaconda3\\envs\\py310\\lib\\site-packages\\sklearn\\metrics\\_classification.py:1517: UndefinedMetricWarning: Precision is ill-defined and being set to 0.0 in labels with no predicted samples. Use `zero_division` parameter to control this behavior.\n",
      "  _warn_prf(average, modifier, f\"{metric.capitalize()} is\", len(result))\n",
      "c:\\Users\\palla\\anaconda3\\envs\\py310\\lib\\site-packages\\sklearn\\metrics\\_classification.py:1517: UndefinedMetricWarning: Precision is ill-defined and being set to 0.0 in labels with no predicted samples. Use `zero_division` parameter to control this behavior.\n",
      "  _warn_prf(average, modifier, f\"{metric.capitalize()} is\", len(result))\n",
      "c:\\Users\\palla\\anaconda3\\envs\\py310\\lib\\site-packages\\sklearn\\metrics\\_classification.py:1517: UndefinedMetricWarning: Precision is ill-defined and being set to 0.0 in labels with no predicted samples. Use `zero_division` parameter to control this behavior.\n",
      "  _warn_prf(average, modifier, f\"{metric.capitalize()} is\", len(result))\n"
     ]
    }
   ],
   "source": [
    "#Naive bayes\n",
    "from sklearn.naive_bayes import MultinomialNB\n",
    "from sklearn.metrics import accuracy_score,classification_report\n",
    "naive_bayes_model = MultinomialNB()\n",
    "naive_bayes_model.fit(X_train, y_train)\n",
    "y_pred = naive_bayes_model.predict(X_val)\n",
    "accuracy = accuracy_score(y_val, y_pred)\n",
    "print(\"Validation Accuracy:\", accuracy)\n",
    "print(classification_report(y_val, y_pred))"
   ]
  },
  {
   "cell_type": "code",
   "execution_count": 21,
   "metadata": {},
   "outputs": [
    {
     "data": {
      "text/plain": [
       "0.44286636539703034"
      ]
     },
     "execution_count": 21,
     "metadata": {},
     "output_type": "execute_result"
    }
   ],
   "source": [
    "accuracy_naivebayes = accuracy_score(y_val, y_pred)\n",
    "accuracy_naivebayes "
   ]
  },
  {
   "cell_type": "code",
   "execution_count": 25,
   "metadata": {},
   "outputs": [
    {
     "name": "stderr",
     "output_type": "stream",
     "text": [
      "c:\\Users\\palla\\anaconda3\\envs\\py310\\lib\\site-packages\\sklearn\\linear_model\\_logistic.py:1247: FutureWarning: 'multi_class' was deprecated in version 1.5 and will be removed in 1.7. From then on, it will always use 'multinomial'. Leave it to its default value to avoid this warning.\n",
      "  warnings.warn(\n"
     ]
    },
    {
     "name": "stdout",
     "output_type": "stream",
     "text": [
      "Validation Accuracy: 0.5722586000184451\n",
      "              precision    recall  f1-score   support\n",
      "\n",
      "      action       0.59      0.21      0.31       263\n",
      "       adult       0.83      0.17      0.28       112\n",
      "   adventure       0.50      0.11      0.18       139\n",
      "   animation       0.67      0.02      0.04       104\n",
      "   biography       0.00      0.00      0.00        61\n",
      "      comedy       0.51      0.58      0.54      1443\n",
      "       crime       1.00      0.01      0.02       107\n",
      " documentary       0.64      0.87      0.74      2659\n",
      "       drama       0.52      0.80      0.63      2697\n",
      "      family       0.47      0.05      0.10       150\n",
      "     fantasy       0.00      0.00      0.00        74\n",
      "   game-show       0.92      0.30      0.45        40\n",
      "     history       0.00      0.00      0.00        45\n",
      "      horror       0.66      0.52      0.59       431\n",
      "       music       0.73      0.38      0.50       144\n",
      "     musical       0.00      0.00      0.00        50\n",
      "     mystery       0.00      0.00      0.00        56\n",
      "        news       0.00      0.00      0.00        34\n",
      "  reality-tv       0.46      0.12      0.20       192\n",
      "     romance       0.00      0.00      0.00       151\n",
      "      sci-fi       0.56      0.14      0.22       143\n",
      "       short       0.50      0.27      0.35      1045\n",
      "       sport       0.82      0.15      0.25        93\n",
      "   talk-show       0.64      0.09      0.15        81\n",
      "    thriller       0.47      0.12      0.19       309\n",
      "         war       0.00      0.00      0.00        20\n",
      "     western       0.97      0.65      0.77       200\n",
      "\n",
      "    accuracy                           0.57     10843\n",
      "   macro avg       0.46      0.21      0.24     10843\n",
      "weighted avg       0.55      0.57      0.52     10843\n",
      "\n"
     ]
    },
    {
     "name": "stderr",
     "output_type": "stream",
     "text": [
      "c:\\Users\\palla\\anaconda3\\envs\\py310\\lib\\site-packages\\sklearn\\metrics\\_classification.py:1517: UndefinedMetricWarning: Precision is ill-defined and being set to 0.0 in labels with no predicted samples. Use `zero_division` parameter to control this behavior.\n",
      "  _warn_prf(average, modifier, f\"{metric.capitalize()} is\", len(result))\n",
      "c:\\Users\\palla\\anaconda3\\envs\\py310\\lib\\site-packages\\sklearn\\metrics\\_classification.py:1517: UndefinedMetricWarning: Precision is ill-defined and being set to 0.0 in labels with no predicted samples. Use `zero_division` parameter to control this behavior.\n",
      "  _warn_prf(average, modifier, f\"{metric.capitalize()} is\", len(result))\n",
      "c:\\Users\\palla\\anaconda3\\envs\\py310\\lib\\site-packages\\sklearn\\metrics\\_classification.py:1517: UndefinedMetricWarning: Precision is ill-defined and being set to 0.0 in labels with no predicted samples. Use `zero_division` parameter to control this behavior.\n",
      "  _warn_prf(average, modifier, f\"{metric.capitalize()} is\", len(result))\n"
     ]
    }
   ],
   "source": [
    "#Logistic regression\n",
    "\n",
    "from sklearn.linear_model import LogisticRegression\n",
    "logistic_regression_model = LogisticRegression(multi_class='multinomial',solver='sag')\n",
    "logistic_regression_model.fit(X_train, y_train)\n",
    "y_pred = logistic_regression_model.predict(X_val)\n",
    "\n",
    "accuracy = accuracy_score(y_val, y_pred)\n",
    "\n",
    "print(\"Validation Accuracy:\", accuracy)\n",
    "\n",
    "print(classification_report(y_val, y_pred))\n",
    "\n"
   ]
  },
  {
   "cell_type": "code",
   "execution_count": 26,
   "metadata": {},
   "outputs": [
    {
     "data": {
      "text/plain": [
       "0.5722586000184451"
      ]
     },
     "execution_count": 26,
     "metadata": {},
     "output_type": "execute_result"
    }
   ],
   "source": [
    "accuracy_logisticregression = accuracy_score(y_val, y_pred)\n",
    "\n",
    "accuracy_logisticregression"
   ]
  },
  {
   "cell_type": "code",
   "execution_count": 31,
   "metadata": {},
   "outputs": [
    {
     "name": "stdout",
     "output_type": "stream",
     "text": [
      "Validation Accuracy: 0.5759476159734391\n",
      "              precision    recall  f1-score   support\n",
      "\n",
      "      action       0.48      0.35      0.41       263\n",
      "       adult       0.78      0.44      0.56       112\n",
      "   adventure       0.45      0.21      0.28       139\n",
      "   animation       0.48      0.12      0.20       104\n",
      "   biography       0.00      0.00      0.00        61\n",
      "      comedy       0.51      0.57      0.54      1443\n",
      "       crime       0.29      0.07      0.11       107\n",
      " documentary       0.68      0.82      0.74      2659\n",
      "       drama       0.55      0.72      0.63      2697\n",
      "      family       0.33      0.16      0.22       150\n",
      "     fantasy       0.29      0.03      0.05        74\n",
      "   game-show       0.81      0.62      0.70        40\n",
      "     history       0.33      0.02      0.04        45\n",
      "      horror       0.64      0.64      0.64       431\n",
      "       music       0.61      0.56      0.58       144\n",
      "     musical       0.75      0.06      0.11        50\n",
      "     mystery       0.20      0.02      0.03        56\n",
      "        news       0.25      0.03      0.05        34\n",
      "  reality-tv       0.49      0.26      0.34       192\n",
      "     romance       0.24      0.03      0.06       151\n",
      "      sci-fi       0.52      0.28      0.36       143\n",
      "       short       0.42      0.34      0.37      1045\n",
      "       sport       0.61      0.39      0.47        93\n",
      "   talk-show       0.54      0.19      0.28        81\n",
      "    thriller       0.29      0.16      0.21       309\n",
      "         war       0.25      0.05      0.08        20\n",
      "     western       0.84      0.81      0.82       200\n",
      "\n",
      "    accuracy                           0.58     10843\n",
      "   macro avg       0.47      0.29      0.33     10843\n",
      "weighted avg       0.55      0.58      0.55     10843\n",
      "\n"
     ]
    }
   ],
   "source": [
    "#SVM\n",
    "from sklearn.svm import LinearSVC\n",
    "svm_model = LinearSVC()\n",
    "svm_model.fit(X_train, y_train)\n",
    "y_pred = svm_model.predict(X_val)\n",
    "\n",
    "accuracy = accuracy_score(y_val, y_pred)\n",
    "\n",
    "print(\"Validation Accuracy:\", accuracy)\n",
    "\n",
    "print(classification_report(y_val, y_pred))"
   ]
  },
  {
   "cell_type": "code",
   "execution_count": 32,
   "metadata": {},
   "outputs": [
    {
     "data": {
      "text/plain": [
       "0.5759476159734391"
      ]
     },
     "execution_count": 32,
     "metadata": {},
     "output_type": "execute_result"
    }
   ],
   "source": [
    "\n",
    "\n",
    "accuracy_svm = accuracy_score(y_val, y_pred)\n",
    "\n",
    "accuracy_svm"
   ]
  },
  {
   "cell_type": "code",
   "execution_count": 43,
   "metadata": {},
   "outputs": [
    {
     "data": {
      "text/html": [
       "<div>\n",
       "<style scoped>\n",
       "    .dataframe tbody tr th:only-of-type {\n",
       "        vertical-align: middle;\n",
       "    }\n",
       "\n",
       "    .dataframe tbody tr th {\n",
       "        vertical-align: top;\n",
       "    }\n",
       "\n",
       "    .dataframe thead th {\n",
       "        text-align: right;\n",
       "    }\n",
       "</style>\n",
       "<table border=\"1\" class=\"dataframe\">\n",
       "  <thead>\n",
       "    <tr style=\"text-align: right;\">\n",
       "      <th></th>\n",
       "      <th>Actual_Genre</th>\n",
       "      <th>Predicted_Genre</th>\n",
       "    </tr>\n",
       "  </thead>\n",
       "  <tbody>\n",
       "    <tr>\n",
       "      <th>1</th>\n",
       "      <td>thriller</td>\n",
       "      <td>comedy</td>\n",
       "    </tr>\n",
       "    <tr>\n",
       "      <th>2</th>\n",
       "      <td>comedy</td>\n",
       "      <td>drama</td>\n",
       "    </tr>\n",
       "    <tr>\n",
       "      <th>3</th>\n",
       "      <td>documentary</td>\n",
       "      <td>documentary</td>\n",
       "    </tr>\n",
       "    <tr>\n",
       "      <th>4</th>\n",
       "      <td>drama</td>\n",
       "      <td>drama</td>\n",
       "    </tr>\n",
       "    <tr>\n",
       "      <th>5</th>\n",
       "      <td>drama</td>\n",
       "      <td>drama</td>\n",
       "    </tr>\n",
       "    <tr>\n",
       "      <th>6</th>\n",
       "      <td>horror</td>\n",
       "      <td>drama</td>\n",
       "    </tr>\n",
       "    <tr>\n",
       "      <th>7</th>\n",
       "      <td>drama</td>\n",
       "      <td>drama</td>\n",
       "    </tr>\n",
       "    <tr>\n",
       "      <th>8</th>\n",
       "      <td>comedy</td>\n",
       "      <td>drama</td>\n",
       "    </tr>\n",
       "    <tr>\n",
       "      <th>9</th>\n",
       "      <td>documentary</td>\n",
       "      <td>documentary</td>\n",
       "    </tr>\n",
       "    <tr>\n",
       "      <th>10</th>\n",
       "      <td>drama</td>\n",
       "      <td>drama</td>\n",
       "    </tr>\n",
       "  </tbody>\n",
       "</table>\n",
       "</div>"
      ],
      "text/plain": [
       "   Actual_Genre Predicted_Genre\n",
       "1      thriller          comedy\n",
       "2        comedy           drama\n",
       "3   documentary     documentary\n",
       "4         drama           drama\n",
       "5         drama           drama\n",
       "6        horror           drama\n",
       "7         drama           drama\n",
       "8        comedy           drama\n",
       "9   documentary     documentary\n",
       "10        drama           drama"
      ]
     },
     "execution_count": 43,
     "metadata": {},
     "output_type": "execute_result"
    }
   ],
   "source": [
    "#predictions\n",
    "\n",
    "y_pred = logistic_regression_model.predict(X_test)\n",
    "test['Predicted_Genre_LR'] = y_pred\n",
    "test_solution['Predicted_Genre'] = y_pred\n",
    "test_solution.head(10)\n"
   ]
  },
  {
   "cell_type": "code",
   "execution_count": 44,
   "metadata": {},
   "outputs": [
    {
     "data": {
      "text/html": [
       "<div>\n",
       "<style scoped>\n",
       "    .dataframe tbody tr th:only-of-type {\n",
       "        vertical-align: middle;\n",
       "    }\n",
       "\n",
       "    .dataframe tbody tr th {\n",
       "        vertical-align: top;\n",
       "    }\n",
       "\n",
       "    .dataframe thead th {\n",
       "        text-align: right;\n",
       "    }\n",
       "</style>\n",
       "<table border=\"1\" class=\"dataframe\">\n",
       "  <thead>\n",
       "    <tr style=\"text-align: right;\">\n",
       "      <th></th>\n",
       "      <th>Actual_Genre</th>\n",
       "      <th>Predicted_Genre</th>\n",
       "    </tr>\n",
       "  </thead>\n",
       "  <tbody>\n",
       "    <tr>\n",
       "      <th>1</th>\n",
       "      <td>thriller</td>\n",
       "      <td>drama</td>\n",
       "    </tr>\n",
       "    <tr>\n",
       "      <th>2</th>\n",
       "      <td>comedy</td>\n",
       "      <td>drama</td>\n",
       "    </tr>\n",
       "    <tr>\n",
       "      <th>3</th>\n",
       "      <td>documentary</td>\n",
       "      <td>documentary</td>\n",
       "    </tr>\n",
       "    <tr>\n",
       "      <th>4</th>\n",
       "      <td>drama</td>\n",
       "      <td>drama</td>\n",
       "    </tr>\n",
       "    <tr>\n",
       "      <th>5</th>\n",
       "      <td>drama</td>\n",
       "      <td>drama</td>\n",
       "    </tr>\n",
       "    <tr>\n",
       "      <th>6</th>\n",
       "      <td>horror</td>\n",
       "      <td>drama</td>\n",
       "    </tr>\n",
       "    <tr>\n",
       "      <th>7</th>\n",
       "      <td>drama</td>\n",
       "      <td>drama</td>\n",
       "    </tr>\n",
       "    <tr>\n",
       "      <th>8</th>\n",
       "      <td>comedy</td>\n",
       "      <td>drama</td>\n",
       "    </tr>\n",
       "    <tr>\n",
       "      <th>9</th>\n",
       "      <td>documentary</td>\n",
       "      <td>documentary</td>\n",
       "    </tr>\n",
       "    <tr>\n",
       "      <th>10</th>\n",
       "      <td>drama</td>\n",
       "      <td>drama</td>\n",
       "    </tr>\n",
       "  </tbody>\n",
       "</table>\n",
       "</div>"
      ],
      "text/plain": [
       "   Actual_Genre Predicted_Genre\n",
       "1      thriller           drama\n",
       "2        comedy           drama\n",
       "3   documentary     documentary\n",
       "4         drama           drama\n",
       "5         drama           drama\n",
       "6        horror           drama\n",
       "7         drama           drama\n",
       "8        comedy           drama\n",
       "9   documentary     documentary\n",
       "10        drama           drama"
      ]
     },
     "execution_count": 44,
     "metadata": {},
     "output_type": "execute_result"
    }
   ],
   "source": [
    "y_pred = naive_bayes_model.predict(X_test)\n",
    "test_solution['Predicted_Genre'] = y_pred\n",
    "test['Predicted_Genre_NB'] = y_pred\n",
    "test_solution.head(10)"
   ]
  },
  {
   "cell_type": "code",
   "execution_count": 45,
   "metadata": {},
   "outputs": [
    {
     "data": {
      "text/html": [
       "<div>\n",
       "<style scoped>\n",
       "    .dataframe tbody tr th:only-of-type {\n",
       "        vertical-align: middle;\n",
       "    }\n",
       "\n",
       "    .dataframe tbody tr th {\n",
       "        vertical-align: top;\n",
       "    }\n",
       "\n",
       "    .dataframe thead th {\n",
       "        text-align: right;\n",
       "    }\n",
       "</style>\n",
       "<table border=\"1\" class=\"dataframe\">\n",
       "  <thead>\n",
       "    <tr style=\"text-align: right;\">\n",
       "      <th></th>\n",
       "      <th>Actual_Genre</th>\n",
       "      <th>Predicted_Genre</th>\n",
       "    </tr>\n",
       "  </thead>\n",
       "  <tbody>\n",
       "    <tr>\n",
       "      <th>1</th>\n",
       "      <td>thriller</td>\n",
       "      <td>comedy</td>\n",
       "    </tr>\n",
       "    <tr>\n",
       "      <th>2</th>\n",
       "      <td>comedy</td>\n",
       "      <td>drama</td>\n",
       "    </tr>\n",
       "    <tr>\n",
       "      <th>3</th>\n",
       "      <td>documentary</td>\n",
       "      <td>documentary</td>\n",
       "    </tr>\n",
       "    <tr>\n",
       "      <th>4</th>\n",
       "      <td>drama</td>\n",
       "      <td>drama</td>\n",
       "    </tr>\n",
       "    <tr>\n",
       "      <th>5</th>\n",
       "      <td>drama</td>\n",
       "      <td>drama</td>\n",
       "    </tr>\n",
       "    <tr>\n",
       "      <th>6</th>\n",
       "      <td>horror</td>\n",
       "      <td>drama</td>\n",
       "    </tr>\n",
       "    <tr>\n",
       "      <th>7</th>\n",
       "      <td>drama</td>\n",
       "      <td>drama</td>\n",
       "    </tr>\n",
       "    <tr>\n",
       "      <th>8</th>\n",
       "      <td>comedy</td>\n",
       "      <td>drama</td>\n",
       "    </tr>\n",
       "    <tr>\n",
       "      <th>9</th>\n",
       "      <td>documentary</td>\n",
       "      <td>documentary</td>\n",
       "    </tr>\n",
       "    <tr>\n",
       "      <th>10</th>\n",
       "      <td>drama</td>\n",
       "      <td>drama</td>\n",
       "    </tr>\n",
       "  </tbody>\n",
       "</table>\n",
       "</div>"
      ],
      "text/plain": [
       "   Actual_Genre Predicted_Genre\n",
       "1      thriller          comedy\n",
       "2        comedy           drama\n",
       "3   documentary     documentary\n",
       "4         drama           drama\n",
       "5         drama           drama\n",
       "6        horror           drama\n",
       "7         drama           drama\n",
       "8        comedy           drama\n",
       "9   documentary     documentary\n",
       "10        drama           drama"
      ]
     },
     "execution_count": 45,
     "metadata": {},
     "output_type": "execute_result"
    }
   ],
   "source": [
    "y_pred = svm_model.predict(X_test)\n",
    "test_solution['Predicted_Genre'] = y_pred\n",
    "test['Predicted_Genre_svm'] = y_pred\n",
    "test_solution.head(10)"
   ]
  },
  {
   "cell_type": "code",
   "execution_count": 55,
   "metadata": {},
   "outputs": [
    {
     "data": {
      "text/html": [
       "<div>\n",
       "<style scoped>\n",
       "    .dataframe tbody tr th:only-of-type {\n",
       "        vertical-align: middle;\n",
       "    }\n",
       "\n",
       "    .dataframe tbody tr th {\n",
       "        vertical-align: top;\n",
       "    }\n",
       "\n",
       "    .dataframe thead th {\n",
       "        text-align: right;\n",
       "    }\n",
       "</style>\n",
       "<table border=\"1\" class=\"dataframe\">\n",
       "  <thead>\n",
       "    <tr style=\"text-align: right;\">\n",
       "      <th></th>\n",
       "      <th>Title</th>\n",
       "      <th>Genre</th>\n",
       "      <th>Description</th>\n",
       "      <th>Text_cleaning</th>\n",
       "      <th>Actual_Genre</th>\n",
       "      <th>Predicted_Genre_LR</th>\n",
       "      <th>Predicted_Genre_NB</th>\n",
       "      <th>Predicted_Genre_svm</th>\n",
       "    </tr>\n",
       "  </thead>\n",
       "  <tbody>\n",
       "    <tr>\n",
       "      <th>0</th>\n",
       "      <td>1</td>\n",
       "      <td>Edgar's,Lunch,(1998)</td>\n",
       "      <td>L.R.,Brane,loves,his,life,-,his,\"car,\",his,\"ap...</td>\n",
       "      <td>brane loves life car apartment job especially ...</td>\n",
       "      <td>NaN</td>\n",
       "      <td>comedy</td>\n",
       "      <td>drama</td>\n",
       "      <td>comedy</td>\n",
       "    </tr>\n",
       "    <tr>\n",
       "      <th>1</th>\n",
       "      <td>2</td>\n",
       "      <td>La,guerra,de,papá,(1977)</td>\n",
       "      <td>\"Spain,\",March,1964:,Quico,is,a,very,naughty,c...</td>\n",
       "      <td>spain march quico naughty child three belongin...</td>\n",
       "      <td>thriller</td>\n",
       "      <td>drama</td>\n",
       "      <td>drama</td>\n",
       "      <td>drama</td>\n",
       "    </tr>\n",
       "    <tr>\n",
       "      <th>2</th>\n",
       "      <td>3</td>\n",
       "      <td>Off,the,Beaten,Track,(2010)</td>\n",
       "      <td>One,year,in,the,life,of,Albin,and,his,family,o...</td>\n",
       "      <td>one year life albin family shepherds north tra...</td>\n",
       "      <td>comedy</td>\n",
       "      <td>documentary</td>\n",
       "      <td>documentary</td>\n",
       "      <td>documentary</td>\n",
       "    </tr>\n",
       "    <tr>\n",
       "      <th>3</th>\n",
       "      <td>4</td>\n",
       "      <td>Meu,Amigo,Hindu,(2015)</td>\n",
       "      <td>His,father,has,\"died,\",he,hasn't,spoken,with,h...</td>\n",
       "      <td>father died hasnt spoken brother years serious...</td>\n",
       "      <td>documentary</td>\n",
       "      <td>drama</td>\n",
       "      <td>drama</td>\n",
       "      <td>drama</td>\n",
       "    </tr>\n",
       "    <tr>\n",
       "      <th>4</th>\n",
       "      <td>5</td>\n",
       "      <td>Er,nu,zhai,(1955)</td>\n",
       "      <td>Before,he,was,known,internationally,as,a,marti...</td>\n",
       "      <td>known internationally martial arts superstar b...</td>\n",
       "      <td>drama</td>\n",
       "      <td>drama</td>\n",
       "      <td>drama</td>\n",
       "      <td>drama</td>\n",
       "    </tr>\n",
       "  </tbody>\n",
       "</table>\n",
       "</div>"
      ],
      "text/plain": [
       "  Title                        Genre  \\\n",
       "0     1         Edgar's,Lunch,(1998)   \n",
       "1     2     La,guerra,de,papá,(1977)   \n",
       "2     3  Off,the,Beaten,Track,(2010)   \n",
       "3     4       Meu,Amigo,Hindu,(2015)   \n",
       "4     5            Er,nu,zhai,(1955)   \n",
       "\n",
       "                                         Description  \\\n",
       "0  L.R.,Brane,loves,his,life,-,his,\"car,\",his,\"ap...   \n",
       "1  \"Spain,\",March,1964:,Quico,is,a,very,naughty,c...   \n",
       "2  One,year,in,the,life,of,Albin,and,his,family,o...   \n",
       "3  His,father,has,\"died,\",he,hasn't,spoken,with,h...   \n",
       "4  Before,he,was,known,internationally,as,a,marti...   \n",
       "\n",
       "                                       Text_cleaning Actual_Genre  \\\n",
       "0  brane loves life car apartment job especially ...          NaN   \n",
       "1  spain march quico naughty child three belongin...     thriller   \n",
       "2  one year life albin family shepherds north tra...       comedy   \n",
       "3  father died hasnt spoken brother years serious...  documentary   \n",
       "4  known internationally martial arts superstar b...        drama   \n",
       "\n",
       "  Predicted_Genre_LR Predicted_Genre_NB Predicted_Genre_svm  \n",
       "0             comedy              drama              comedy  \n",
       "1              drama              drama               drama  \n",
       "2        documentary        documentary         documentary  \n",
       "3              drama              drama               drama  \n",
       "4              drama              drama               drama  "
      ]
     },
     "execution_count": 55,
     "metadata": {},
     "output_type": "execute_result"
    }
   ],
   "source": [
    "\n",
    "test.to_csv('predicted_genres.csv', index=False)\n",
    "extracted_col = test_solution[\"Actual_Genre\"]\n",
    "test.drop('Actual_Genre',axis=1)\n",
    "test = test.T.drop_duplicates().T\n",
    "\n",
    "test.head()"
   ]
  },
  {
   "cell_type": "code",
   "execution_count": 59,
   "metadata": {},
   "outputs": [
    {
     "name": "stdout",
     "output_type": "stream",
     "text": [
      "Number of samples where Naive Bayes Classifier predicted accurately: 13333\n",
      "Number of samples where Logistic Regression Classifier predicted accurately: 10954\n",
      "Number of samples where SVM Classifier predicted accurately: 9787\n"
     ]
    }
   ],
   "source": [
    "count_same_values_NB = (test['Predicted_Genre_NB'] == test['Actual_Genre']).sum()\n",
    "count_same_values_LR = (test['Predicted_Genre_LR'] == test['Actual_Genre']).sum()\n",
    "count_same_values_svm= (test['Predicted_Genre_svm'] ==test['Actual_Genre']).sum()\n",
    "\n",
    "print(\"Number of samples where Naive Bayes Classifier predicted accurately:\", count_same_values_NB)\n",
    "print(\"Number of samples where Logistic Regression Classifier predicted accurately:\", count_same_values_LR)\n",
    "print(\"Number of samples where SVM Classifier predicted accurately:\", count_same_values_svm)"
   ]
  }
 ],
 "metadata": {
  "kernelspec": {
   "display_name": "py310",
   "language": "python",
   "name": "python3"
  },
  "language_info": {
   "codemirror_mode": {
    "name": "ipython",
    "version": 3
   },
   "file_extension": ".py",
   "mimetype": "text/x-python",
   "name": "python",
   "nbconvert_exporter": "python",
   "pygments_lexer": "ipython3",
   "version": "3.10.14"
  }
 },
 "nbformat": 4,
 "nbformat_minor": 2
}
